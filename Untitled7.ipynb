{
 "cells": [
  {
   "cell_type": "markdown",
   "id": "79b78fdb-b11c-4f37-b881-85210a1bfce0",
   "metadata": {},
   "source": [
    "#inheritance "
   ]
  },
  {
   "cell_type": "code",
   "execution_count": 5,
   "id": "16f720ed-d87b-4a84-ab2c-3b5163f05954",
   "metadata": {},
   "outputs": [],
   "source": [
    "class A:\n",
    "    def i_m_a():\n",
    "      print('i am a func of class A')\n",
    "\n",
    "class B:\n",
    "    def i_m_b():\n",
    "        print('i am b func of class B')"
   ]
  },
  {
   "cell_type": "code",
   "execution_count": 6,
   "id": "3a119bb1-915b-45a8-b5ab-f3ed0b08626a",
   "metadata": {},
   "outputs": [],
   "source": [
    "ob_a=A()\n",
    "ob_b=B()"
   ]
  },
  {
   "cell_type": "code",
   "execution_count": null,
   "id": "cfc16b08-005b-46e6-8741-39c67750b321",
   "metadata": {},
   "outputs": [],
   "source": []
  },
  {
   "cell_type": "code",
   "execution_count": 14,
   "id": "144693bf-e449-4f5c-b2fa-56cdc9f981df",
   "metadata": {},
   "outputs": [],
   "source": [
    "class BMW: #parent class , main class, super class, base class\n",
    "  def super_turbo_engine(self):\n",
    "      print('super_turbo_engine Fast Speed')\n",
    "\n",
    "class AUDI(BMW): #child class, sub class\n",
    "    def auto_pilot(self):\n",
    "      print('can run on auto pilot mode')\n",
    "     "
   ]
  },
  {
   "cell_type": "code",
   "execution_count": 15,
   "id": "cb25a580-3f2d-4794-87dd-5c891084d244",
   "metadata": {},
   "outputs": [],
   "source": [
    "audi_r8= AUDI()"
   ]
  },
  {
   "cell_type": "code",
   "execution_count": 16,
   "id": "d26ec303-5b76-478d-8e70-1bb32b07ff10",
   "metadata": {},
   "outputs": [
    {
     "name": "stdout",
     "output_type": "stream",
     "text": [
      "can run on auto pilot mode\n"
     ]
    }
   ],
   "source": [
    "audi_r8.auto_pilot()"
   ]
  },
  {
   "cell_type": "code",
   "execution_count": 17,
   "id": "aa96accf-a963-49a0-ab4e-193ce82465f2",
   "metadata": {},
   "outputs": [
    {
     "name": "stdout",
     "output_type": "stream",
     "text": [
      "super_turbo_engine Fast Speed\n"
     ]
    }
   ],
   "source": [
    "audi_r8.super_turbo_engine()"
   ]
  },
  {
   "cell_type": "code",
   "execution_count": 18,
   "id": "68f6d9f1-9834-4e13-b3fd-c9c178aa8d1c",
   "metadata": {},
   "outputs": [],
   "source": [
    "# multiple inheritence"
   ]
  },
  {
   "cell_type": "code",
   "execution_count": 47,
   "id": "a5efa0bc-c90c-46e5-9818-7ca506907b82",
   "metadata": {},
   "outputs": [],
   "source": [
    "\n",
    "\n",
    "class Daily_Object:\n",
    "\n",
    "    def phone_case(self):\n",
    "        print('strong built phone case')\n",
    "\n",
    "class Jbl:\n",
    "    def sonic_speaker(self):\n",
    "        print('high quality sound')\n",
    "\n",
    "class Samsung:\n",
    "    def screen_display(self):\n",
    "        print('4k hd display')\n",
    "\n",
    "class Nvidia:\n",
    "    def motherboard(self):\n",
    "        print('fast motherboard')\n",
    "\n",
    "class Sony:\n",
    "    def camera(self):\n",
    "        print('4k camera')\n",
    "\n",
    "class Lava:\n",
    "    def charger(self):\n",
    "        print('superfast charger')\n",
    "\n",
    "class One_plus:\n",
    "    def charger(self):\n",
    "        print('original superfast charger')\n",
    "\n",
    "class Mobile( Daily_Object , Jbl , Samsung , Nvidia , Sony , One_plus ,  Lava ):\n",
    "    def __init__(self):\n",
    "        print('phone object created successfully')\n",
    "\n",
    "\n",
    "    def charger(self):\n",
    "        print('actual charger for mobile')\n",
    "\n",
    "    \n",
    "    \n",
    "        \n",
    "\n",
    "        "
   ]
  },
  {
   "cell_type": "code",
   "execution_count": 48,
   "id": "e4f016cb-5b61-4389-b7a5-a465029d887f",
   "metadata": {},
   "outputs": [
    {
     "name": "stdout",
     "output_type": "stream",
     "text": [
      "phone object created successfully\n"
     ]
    }
   ],
   "source": [
    "nothing = Mobile()"
   ]
  },
  {
   "cell_type": "code",
   "execution_count": 49,
   "id": "aa545801-5429-43fd-91c8-e420159f0c7c",
   "metadata": {},
   "outputs": [
    {
     "name": "stdout",
     "output_type": "stream",
     "text": [
      "4k hd display\n"
     ]
    }
   ],
   "source": [
    "nothing.screen_display()"
   ]
  },
  {
   "cell_type": "code",
   "execution_count": 50,
   "id": "d0bd1d8e-525a-4b4a-a0c1-892ae51e4fe2",
   "metadata": {},
   "outputs": [
    {
     "name": "stdout",
     "output_type": "stream",
     "text": [
      "4k camera\n"
     ]
    }
   ],
   "source": [
    "nothing.camera()"
   ]
  },
  {
   "cell_type": "code",
   "execution_count": 51,
   "id": "554cde79-1301-444f-8d3f-8daf5babf87c",
   "metadata": {},
   "outputs": [
    {
     "name": "stdout",
     "output_type": "stream",
     "text": [
      "4k camera\n"
     ]
    }
   ],
   "source": [
    "nothing.camera()"
   ]
  },
  {
   "cell_type": "code",
   "execution_count": 52,
   "id": "a863388f-06c0-4fe6-9a12-d470ee2ee227",
   "metadata": {},
   "outputs": [
    {
     "name": "stdout",
     "output_type": "stream",
     "text": [
      "4k camera\n"
     ]
    }
   ],
   "source": [
    "nothing.camera()"
   ]
  },
  {
   "cell_type": "code",
   "execution_count": 53,
   "id": "969d2339-d975-478e-9fd1-900387ea54a4",
   "metadata": {},
   "outputs": [
    {
     "name": "stdout",
     "output_type": "stream",
     "text": [
      "actual charger for mobile\n"
     ]
    }
   ],
   "source": [
    "nothing.charger()"
   ]
  },
  {
   "cell_type": "code",
   "execution_count": 54,
   "id": "d7b55863-5550-4987-b20e-f5a35768ba2c",
   "metadata": {},
   "outputs": [
    {
     "name": "stdout",
     "output_type": "stream",
     "text": [
      "actual charger for mobile\n"
     ]
    }
   ],
   "source": [
    "nothing.charger()"
   ]
  },
  {
   "cell_type": "code",
   "execution_count": 55,
   "id": "cd4a3dad-7995-4ba1-8445-0132c4bd2884",
   "metadata": {},
   "outputs": [],
   "source": [
    "#multi level inheritence"
   ]
  },
  {
   "cell_type": "code",
   "execution_count": 58,
   "id": "52181c25-ee6c-4a12-b303-e520f7878ee8",
   "metadata": {},
   "outputs": [],
   "source": [
    "class Grandfather:\n",
    "    def land(self):\n",
    "        print('land property')\n",
    "\n",
    "class Father(Grandfather):\n",
    "    def bank_balance(self):\n",
    "        print('big money payer,huge balance')\n",
    "\n",
    "class Son (Father):\n",
    "    def political_power(self):\n",
    "        print('political power')\n",
    "\n",
    "class GrandSon(Son):\n",
    "    def mind(self):\n",
    "        print('mind for self study')\n",
    "\n",
    "class Friend(GrandSon):\n",
    "    def __init__(self):\n",
    "        print('nothing')\n"
   ]
  },
  {
   "cell_type": "code",
   "execution_count": 60,
   "id": "e4c43104-850d-4667-9673-82107ba85abf",
   "metadata": {},
   "outputs": [
    {
     "name": "stdout",
     "output_type": "stream",
     "text": [
      "done\n"
     ]
    }
   ],
   "source": [
    "aman = GrandSon()\n",
    "print('done')"
   ]
  },
  {
   "cell_type": "code",
   "execution_count": 61,
   "id": "330875b9-a58f-4b6e-b574-3229abb924b0",
   "metadata": {},
   "outputs": [
    {
     "name": "stdout",
     "output_type": "stream",
     "text": [
      "big money payer,huge balance\n"
     ]
    }
   ],
   "source": [
    "aman.bank_balance()"
   ]
  },
  {
   "cell_type": "code",
   "execution_count": 62,
   "id": "1cb303dc-1431-42e0-94a5-f59b3075baf1",
   "metadata": {},
   "outputs": [
    {
     "name": "stdout",
     "output_type": "stream",
     "text": [
      "land property\n"
     ]
    }
   ],
   "source": [
    "aman.land()"
   ]
  },
  {
   "cell_type": "code",
   "execution_count": 63,
   "id": "da1a57b7-ec28-4ea7-b406-a8162d47697e",
   "metadata": {},
   "outputs": [
    {
     "name": "stdout",
     "output_type": "stream",
     "text": [
      "political power\n"
     ]
    }
   ],
   "source": [
    "aman.political_power()"
   ]
  },
  {
   "cell_type": "code",
   "execution_count": 64,
   "id": "2513d783-2619-4bbc-aa6b-c41890fa26e0",
   "metadata": {},
   "outputs": [
    {
     "name": "stdout",
     "output_type": "stream",
     "text": [
      "nothing\n"
     ]
    }
   ],
   "source": [
    "Karan = Friend()"
   ]
  },
  {
   "cell_type": "code",
   "execution_count": 65,
   "id": "3095c724-c18a-494e-9a8b-364f968fb94d",
   "metadata": {},
   "outputs": [],
   "source": [
    "#hybrid inheritence"
   ]
  },
  {
   "cell_type": "code",
   "execution_count": 68,
   "id": "e003f6c3-7b0b-4b7a-92a2-3768b366f2ae",
   "metadata": {},
   "outputs": [],
   "source": [
    "class Hybrid(Mobile , Friend , AUDI):\n",
    "    def __init__(self):\n",
    "        print('this is hybrid class')\n",
    "\n",
    "    def info(self):\n",
    "        print('it can call any method')"
   ]
  },
  {
   "cell_type": "code",
   "execution_count": 70,
   "id": "57d21d43-48da-488f-be9a-17d29a3eaf78",
   "metadata": {},
   "outputs": [
    {
     "name": "stdout",
     "output_type": "stream",
     "text": [
      "this is hybrid class\n"
     ]
    }
   ],
   "source": [
    "ob = Hybrid()"
   ]
  },
  {
   "cell_type": "code",
   "execution_count": 71,
   "id": "059dc1f4-11a7-4de0-89c4-a5a72718a562",
   "metadata": {},
   "outputs": [
    {
     "name": "stdout",
     "output_type": "stream",
     "text": [
      "it can call any method\n"
     ]
    }
   ],
   "source": [
    "ob.info()"
   ]
  },
  {
   "cell_type": "code",
   "execution_count": 72,
   "id": "0952b0ea-02be-47cd-8100-a914771511e4",
   "metadata": {},
   "outputs": [],
   "source": [
    "class UGC:\n",
    "    def __init__(self):\n",
    "        print('grant permission')\n",
    "    def college_approved(self):\n",
    "        print('college has been approved')\n",
    "\n",
    "class IP(UGC):\n",
    "    def multiple_colleges(self):\n",
    "        print('list of colleges')\n",
    "\n",
    "class DU(UGC):\n",
    "    def multiple_colleges(self):\n",
    "        print('list of colleges')\n",
    "\n",
    "class DTU(UGC):\n",
    "    def multiple_colleges():\n",
    "        print('list of colleges')\n",
    "\n",
    "class BHU(UGC):\n",
    "    def multiple_colleges(self):\n",
    "        print('list of colleges')"
   ]
  },
  {
   "cell_type": "code",
   "execution_count": 74,
   "id": "132039c8-11d3-414a-abd0-7e50ae350b20",
   "metadata": {},
   "outputs": [
    {
     "name": "stdout",
     "output_type": "stream",
     "text": [
      "grant permission\n"
     ]
    }
   ],
   "source": [
    "IITM=IP()"
   ]
  },
  {
   "cell_type": "code",
   "execution_count": null,
   "id": "31d76117-cfac-49ee-bee5-fc9b0b1e6799",
   "metadata": {},
   "outputs": [],
   "source": []
  },
  {
   "cell_type": "code",
   "execution_count": 75,
   "id": "480a3c79-14c1-4430-a611-3a383913e5b4",
   "metadata": {},
   "outputs": [],
   "source": [
    "#POLYMORPHISM"
   ]
  },
  {
   "cell_type": "code",
   "execution_count": 78,
   "id": "e5fc55a4-fcd2-4cb1-901c-3ea5e8154fb5",
   "metadata": {},
   "outputs": [
    {
     "name": "stdout",
     "output_type": "stream",
     "text": [
      "fi car speed: max speed 200\n",
      "fi car speed: max speed is 250\n",
      "fi car speed: max speed is 300\n"
     ]
    }
   ],
   "source": [
    "class Car:\n",
    "    def speed(self):\n",
    "        return('max speed 200')\n",
    "\n",
    "    def auto_pilot(self):\n",
    "        return('it supports auto pilot mode')\n",
    "\n",
    "    def info(self):\n",
    "        return(' car object')\n",
    "\n",
    "class Bmw(Car):\n",
    "    def speed (self):\n",
    "        return('max speed is 250')\n",
    "\n",
    "    def info(self):\n",
    "        return('bmw car object')\n",
    "\n",
    "class Audi(Car):\n",
    "    def speed(self):\n",
    "        return('max speed is 300')\n",
    "\n",
    "    def info(self):\n",
    "        return('audi car object')\n",
    "\n",
    "\n",
    "for i in [Car,Bmw,Audi]:\n",
    "    f1=i()\n",
    "\n",
    "    print('fi car speed:',f1.speed())\n",
    "        "
   ]
  },
  {
   "cell_type": "code",
   "execution_count": 79,
   "id": "fb83f5b5-0f0a-4918-98be-eb0663137b22",
   "metadata": {},
   "outputs": [
    {
     "name": "stdout",
     "output_type": "stream",
     "text": [
      "max speed is 250\n"
     ]
    }
   ],
   "source": [
    "f1 = Bmw()\n",
    "print(f1.speed())"
   ]
  },
  {
   "cell_type": "code",
   "execution_count": 80,
   "id": "f242bd54-9e8c-4160-9483-ea300dca2457",
   "metadata": {},
   "outputs": [
    {
     "name": "stdout",
     "output_type": "stream",
     "text": [
      "max speed is 300\n"
     ]
    }
   ],
   "source": [
    "f1 = Audi()\n",
    "print(f1.speed())"
   ]
  },
  {
   "cell_type": "code",
   "execution_count": 82,
   "id": "6aa8d8ef-41da-4be2-8a6b-b5a3b3ad0adc",
   "metadata": {},
   "outputs": [
    {
     "name": "stdout",
     "output_type": "stream",
     "text": [
      "hello komal,how are you\n",
      "your address is delhi\n"
     ]
    }
   ],
   "source": [
    "class IITM:\n",
    "    def into(self):\n",
    "        print('hello')\n",
    "\n",
    "    def intro(self,name):\n",
    "        print(f'hello{name},how are you')\n",
    "        \n",
    "\n",
    "    \n",
    "    def intro(self,name,address):\n",
    "        print(f'hello {name},how are you')\n",
    "        print(f'your address is { address}')\n",
    "\n",
    "\n",
    "    \n",
    "a = IITM()\n",
    "a.intro('komal','delhi')"
   ]
  },
  {
   "cell_type": "code",
   "execution_count": 89,
   "id": "d2d116f4-9c35-499e-a595-cf307dbd217e",
   "metadata": {},
   "outputs": [],
   "source": [
    "class IITM:\n",
    "    def intro(self,name = None,address = None):\n",
    "        if (name == None) and (address == None):\n",
    "            print('hello candidate')\n",
    "\n",
    "        elif name != None and ( address == None):\n",
    "            print(f'hello{name},how are you')\n",
    "\n",
    "        elif (name!= None) and ( address != None ):\n",
    "              print(f'hello {name},how are you')\n",
    "              print(f'your address is { address}')\n",
    "\n",
    "        else:\n",
    "            print('hello buddy')\n",
    "\n",
    "            \n",
    "        "
   ]
  },
  {
   "cell_type": "code",
   "execution_count": 90,
   "id": "ad62d0be-85d8-4ffe-b370-0a93f3b3b8d2",
   "metadata": {},
   "outputs": [],
   "source": [
    "rachit = IITM()"
   ]
  },
  {
   "cell_type": "code",
   "execution_count": 95,
   "id": "215ca82a-be07-4361-be12-a8f23bfbd7eb",
   "metadata": {},
   "outputs": [
    {
     "name": "stdout",
     "output_type": "stream",
     "text": [
      "hello candidate\n"
     ]
    }
   ],
   "source": [
    "rachit.intro()"
   ]
  },
  {
   "cell_type": "code",
   "execution_count": 92,
   "id": "4a8dc635-2ea0-40d3-824b-8109ecc4c556",
   "metadata": {},
   "outputs": [
    {
     "name": "stdout",
     "output_type": "stream",
     "text": [
      "hellofazal,how are you\n"
     ]
    }
   ],
   "source": [
    "rachit.intro('fazal')"
   ]
  },
  {
   "cell_type": "code",
   "execution_count": 93,
   "id": "62f7067a-05f4-4ad9-8f6f-f740a2373360",
   "metadata": {},
   "outputs": [
    {
     "name": "stdout",
     "output_type": "stream",
     "text": [
      "hello RACHIT,how are you\n",
      "your address is DELHI\n"
     ]
    }
   ],
   "source": [
    "rachit.intro('RACHIT','DELHI')"
   ]
  },
  {
   "cell_type": "code",
   "execution_count": 96,
   "id": "00aeebe6-dcdc-4bdf-8801-f4b5fb50ba80",
   "metadata": {},
   "outputs": [],
   "source": [
    "#abstaction"
   ]
  },
  {
   "cell_type": "code",
   "execution_count": null,
   "id": "b4600672-c2df-4ed9-b079-3693e475d100",
   "metadata": {},
   "outputs": [],
   "source": []
  },
  {
   "cell_type": "code",
   "execution_count": 103,
   "id": "a2abcbda-a448-45f9-ace4-fa057d50a947",
   "metadata": {},
   "outputs": [
    {
     "ename": "TypeError",
     "evalue": "Can't instantiate abstract class Website without an implementation for abstract methods 'login', 'logout'",
     "output_type": "error",
     "traceback": [
      "\u001b[1;31m---------------------------------------------------------------------------\u001b[0m",
      "\u001b[1;31mTypeError\u001b[0m                                 Traceback (most recent call last)",
      "Cell \u001b[1;32mIn[103], line 12\u001b[0m\n\u001b[0;32m      7\u001b[0m     \u001b[38;5;129m@abstractmethod\u001b[39m\n\u001b[0;32m      8\u001b[0m \n\u001b[0;32m      9\u001b[0m     \u001b[38;5;28;01mdef\u001b[39;00m\u001b[38;5;250m \u001b[39m\u001b[38;5;21mlogout\u001b[39m(\u001b[38;5;28mself\u001b[39m):\n\u001b[0;32m     10\u001b[0m         \u001b[38;5;28mprint\u001b[39m(\u001b[38;5;124m'\u001b[39m\u001b[38;5;124ma logout method\u001b[39m\u001b[38;5;124m'\u001b[39m)\n\u001b[1;32m---> 12\u001b[0m asus \u001b[38;5;241m=\u001b[39m Website()\n\u001b[0;32m     15\u001b[0m \u001b[38;5;28mprint\u001b[39m(\u001b[38;5;124m'\u001b[39m\u001b[38;5;124mdone\u001b[39m\u001b[38;5;124m'\u001b[39m)\n",
      "\u001b[1;31mTypeError\u001b[0m: Can't instantiate abstract class Website without an implementation for abstract methods 'login', 'logout'"
     ]
    }
   ],
   "source": [
    "from abc import ABC , abstractmethod\n",
    "class Website(ABC):\n",
    "    @abstractmethod\n",
    "    def login(self):\n",
    "        print('this is a login method')\n",
    "\n",
    "    @abstractmethod\n",
    "\n",
    "    def logout(self):\n",
    "        print('a logout method')\n",
    "\n",
    "asus = Website()\n",
    "\n",
    "\n",
    "print('done')"
   ]
  },
  {
   "cell_type": "code",
   "execution_count": 106,
   "id": "d94e988f-f871-45d1-a67a-302a5a28bf3e",
   "metadata": {},
   "outputs": [],
   "source": [
    "class Nakul(Website):\n",
    "    def signup(self):\n",
    "        print('user can signup')\n",
    "\n",
    "    def login(self):\n",
    "        print('this is a login form')\n",
    "\n",
    "    def logout(self):\n",
    "        print('user can logout')\n",
    "\n",
    "\n",
    "google = Nakul()\n",
    "        "
   ]
  },
  {
   "cell_type": "code",
   "execution_count": 107,
   "id": "8e3b6147-1a7c-424a-a8c2-9250d27b0705",
   "metadata": {},
   "outputs": [
    {
     "name": "stdout",
     "output_type": "stream",
     "text": [
      "user can signup\n"
     ]
    }
   ],
   "source": [
    "google.signup()"
   ]
  },
  {
   "cell_type": "code",
   "execution_count": 108,
   "id": "cf0a6ecf-fe4c-4db4-b19e-b2b8a4f2ce2b",
   "metadata": {},
   "outputs": [
    {
     "name": "stdout",
     "output_type": "stream",
     "text": [
      "this is a login form\n"
     ]
    }
   ],
   "source": [
    "google.login()"
   ]
  },
  {
   "cell_type": "code",
   "execution_count": 109,
   "id": "9eee5210-6a41-4d03-bf8f-b27fe176fd87",
   "metadata": {},
   "outputs": [
    {
     "name": "stdout",
     "output_type": "stream",
     "text": [
      "user can logout\n"
     ]
    }
   ],
   "source": [
    "google.logout()"
   ]
  },
  {
   "cell_type": "code",
   "execution_count": null,
   "id": "a59c739a-f7fd-4452-8be3-0ee4bc318655",
   "metadata": {},
   "outputs": [],
   "source": []
  }
 ],
 "metadata": {
  "kernelspec": {
   "display_name": "Python 3 (ipykernel)",
   "language": "python",
   "name": "python3"
  },
  "language_info": {
   "codemirror_mode": {
    "name": "ipython",
    "version": 3
   },
   "file_extension": ".py",
   "mimetype": "text/x-python",
   "name": "python",
   "nbconvert_exporter": "python",
   "pygments_lexer": "ipython3",
   "version": "3.13.5"
  }
 },
 "nbformat": 4,
 "nbformat_minor": 5
}
