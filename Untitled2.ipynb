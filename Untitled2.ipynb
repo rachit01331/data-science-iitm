{
 "cells": [
  {
   "cell_type": "code",
   "execution_count": 8,
   "id": "4ba1d141-4bdb-4d19-b55a-f4f3bc1f23a0",
   "metadata": {},
   "outputs": [
    {
     "name": "stdin",
     "output_type": "stream",
     "text": [
      "enter number one: 29\n",
      "enter number two: 10\n"
     ]
    },
    {
     "name": "stdout",
     "output_type": "stream",
     "text": [
      "sum 39.0\n",
      "difference 19.0\n",
      "product 290.0\n",
      "quotient 2.9\n"
     ]
    }
   ],
   "source": [
    "num1= float(input(\"enter number one:\"))\n",
    "num2 = float(input(\"enter number two:\"))\n",
    "sum=num1+num2\n",
    "difference = num1 - num2\n",
    "product = num1 * num2\n",
    "quotient = num1/num2\n",
    "print(\"sum\",sum)\n",
    "print(\"difference\",difference)\n",
    "print(\"product\",product)\n",
    "print(\"quotient\",quotient)\n",
    "\n",
    "\n"
   ]
  },
  {
   "cell_type": "code",
   "execution_count": null,
   "id": "970abdb2-8032-4261-bc7f-90d9896e1d40",
   "metadata": {},
   "outputs": [],
   "source": []
  }
 ],
 "metadata": {
  "kernelspec": {
   "display_name": "Python 3 (ipykernel)",
   "language": "python",
   "name": "python3"
  },
  "language_info": {
   "codemirror_mode": {
    "name": "ipython",
    "version": 3
   },
   "file_extension": ".py",
   "mimetype": "text/x-python",
   "name": "python",
   "nbconvert_exporter": "python",
   "pygments_lexer": "ipython3",
   "version": "3.13.5"
  }
 },
 "nbformat": 4,
 "nbformat_minor": 5
}
