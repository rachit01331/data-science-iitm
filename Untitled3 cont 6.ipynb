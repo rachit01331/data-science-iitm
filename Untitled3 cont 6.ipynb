{
 "cells": [
  {
   "cell_type": "code",
   "execution_count": 2,
   "id": "16cbacee-540a-4a78-9e86-d93c608ae730",
   "metadata": {},
   "outputs": [],
   "source": [
    "#encapsulation"
   ]
  },
  {
   "cell_type": "code",
   "execution_count": 5,
   "id": "baad9f27-96c0-464b-8213-94bcbdf97e24",
   "metadata": {},
   "outputs": [],
   "source": [
    "class ATM:\n",
    "        def __init__(self):\n",
    "            print('object created successfully')\n",
    "            self.pin = 1111 #public variable\n",
    "            self.balance=2000 #public variable\n",
    "    \n",
    "        def change_pin(self): #public variable\n",
    "                self.pin = input('enter new pin:')\n",
    "                print('your pin has been changed')\n",
    "        \n",
    "        def show_balance(self):\n",
    "                print(f'''your current balance is rs {self.balance}''')\n",
    "    \n",
    "        def atm_performance_status(self):\n",
    "            print('atm is working')\n",
    "    \n",
    "            "
   ]
  },
  {
   "cell_type": "code",
   "execution_count": 6,
   "id": "34634af5-f42c-4242-adeb-5efd469720c8",
   "metadata": {},
   "outputs": [
    {
     "name": "stdout",
     "output_type": "stream",
     "text": [
      "object created successfully\n"
     ]
    }
   ],
   "source": [
    "icic = ATM()"
   ]
  },
  {
   "cell_type": "code",
   "execution_count": 8,
   "id": "01430aff-928e-44b6-8f2a-9f9b1097e1aa",
   "metadata": {},
   "outputs": [
    {
     "data": {
      "text/plain": [
       "2000"
      ]
     },
     "execution_count": 8,
     "metadata": {},
     "output_type": "execute_result"
    }
   ],
   "source": [
    "icic.balance"
   ]
  },
  {
   "cell_type": "code",
   "execution_count": 9,
   "id": "bfc79176-37ae-4905-bf55-a90bae0aaaab",
   "metadata": {},
   "outputs": [
    {
     "name": "stdout",
     "output_type": "stream",
     "text": [
      "your current balance is rs 2000\n"
     ]
    }
   ],
   "source": [
    "icic.show_balance()"
   ]
  },
  {
   "cell_type": "code",
   "execution_count": 10,
   "id": "9d68dfdb-1c7b-4e9b-85a0-6abc8cea94e5",
   "metadata": {},
   "outputs": [
    {
     "name": "stdout",
     "output_type": "stream",
     "text": [
      "atm is working\n"
     ]
    }
   ],
   "source": [
    "icic.atm_performance_status()"
   ]
  },
  {
   "cell_type": "code",
   "execution_count": null,
   "id": "aa19c55c-0726-48f5-898e-3d8cfb7e287c",
   "metadata": {},
   "outputs": [],
   "source": []
  },
  {
   "cell_type": "code",
   "execution_count": null,
   "id": "b1bdca25-2973-451f-9392-b548556f404b",
   "metadata": {},
   "outputs": [],
   "source": []
  },
  {
   "cell_type": "code",
   "execution_count": 12,
   "id": "f2bc7a25-c77f-46d7-8753-df24cd57e2fc",
   "metadata": {},
   "outputs": [],
   "source": [
    "class ATM_1:\n",
    "            def __init__(self):\n",
    "                print('object created successfully')\n",
    "                self._pin = 1111 #protected variable\n",
    "                self._balance=2000 #protected variable\n",
    "        \n",
    "            def change_pin(self): #protected variable\n",
    "                    self._pin = input('enter new pin:')\n",
    "                    print('your pin has been changed')\n",
    "            \n",
    "            def show_balance(self):\n",
    "                    print(f'''your current balance is rs {self.balance}''')\n",
    "        \n",
    "            def atm_performance_status(self):\n",
    "                print('atm is working')\n"
   ]
  },
  {
   "cell_type": "code",
   "execution_count": 13,
   "id": "371916b1-bb07-4f70-9139-f194792e5440",
   "metadata": {},
   "outputs": [
    {
     "name": "stdout",
     "output_type": "stream",
     "text": [
      "object created successfully\n"
     ]
    }
   ],
   "source": [
    "axis = ATM_1()\n"
   ]
  },
  {
   "cell_type": "code",
   "execution_count": 14,
   "id": "5ff3d130-663f-4eec-a0b2-a0b2bd73fb7e",
   "metadata": {},
   "outputs": [
    {
     "data": {
      "text/plain": [
       "1111"
      ]
     },
     "execution_count": 14,
     "metadata": {},
     "output_type": "execute_result"
    }
   ],
   "source": [
    "axis._pin"
   ]
  },
  {
   "cell_type": "code",
   "execution_count": 16,
   "id": "a321b8eb-91e4-4029-909d-78886514cfb8",
   "metadata": {},
   "outputs": [
    {
     "data": {
      "text/plain": [
       "2000"
      ]
     },
     "execution_count": 16,
     "metadata": {},
     "output_type": "execute_result"
    }
   ],
   "source": [
    "axis._balance"
   ]
  },
  {
   "cell_type": "code",
   "execution_count": 19,
   "id": "f8f735a3-db49-4ec7-8b65-2ac3ec718393",
   "metadata": {},
   "outputs": [],
   "source": [
    "class ATM_2:\n",
    "            def __init__(self):\n",
    "                print('object created successfully')\n",
    "                self.__pin = 1111 #private variable\n",
    "                self.__balance=2000 #private variable\n",
    "        \n",
    "            def change_pin(self): #private variable\n",
    "                    self.__pin = input('enter new pin:')\n",
    "                    print('your pin has been changed')\n",
    "            \n",
    "            def show_balance(self):\n",
    "                    print(f'''your current balance is rs {self.balance}''')\n",
    "        \n",
    "            def __atm_performance_status(self):\n",
    "                print('atm is working')\n"
   ]
  },
  {
   "cell_type": "code",
   "execution_count": 20,
   "id": "70e03006-1222-4ad9-a3fd-113ebf539149",
   "metadata": {},
   "outputs": [
    {
     "name": "stdout",
     "output_type": "stream",
     "text": [
      "object created successfully\n"
     ]
    }
   ],
   "source": [
    "hdfc = ATM_2()"
   ]
  },
  {
   "cell_type": "code",
   "execution_count": 21,
   "id": "0c311e22-57d3-4d7b-9002-2c4d3ab9382b",
   "metadata": {},
   "outputs": [
    {
     "data": {
      "text/plain": [
       "2000"
      ]
     },
     "execution_count": 21,
     "metadata": {},
     "output_type": "execute_result"
    }
   ],
   "source": [
    "hdfc._ATM_2__balance"
   ]
  },
  {
   "cell_type": "code",
   "execution_count": 22,
   "id": "48824b96-d101-4aa1-898d-93b652edef48",
   "metadata": {},
   "outputs": [
    {
     "name": "stdout",
     "output_type": "stream",
     "text": [
      "atm is working\n"
     ]
    }
   ],
   "source": [
    "hdfc._ATM_2__atm_performance_status()"
   ]
  },
  {
   "cell_type": "code",
   "execution_count": null,
   "id": "30917464-4b1b-4262-81a0-8e8c9ac264f7",
   "metadata": {},
   "outputs": [],
   "source": []
  }
 ],
 "metadata": {
  "kernelspec": {
   "display_name": "Python 3 (ipykernel)",
   "language": "python",
   "name": "python3"
  },
  "language_info": {
   "codemirror_mode": {
    "name": "ipython",
    "version": 3
   },
   "file_extension": ".py",
   "mimetype": "text/x-python",
   "name": "python",
   "nbconvert_exporter": "python",
   "pygments_lexer": "ipython3",
   "version": "3.13.5"
  }
 },
 "nbformat": 4,
 "nbformat_minor": 5
}
