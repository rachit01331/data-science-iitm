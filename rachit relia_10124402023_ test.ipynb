{
 "cells": [
  {
   "cell_type": "code",
   "execution_count": 7,
   "id": "9b3417e6-536b-45e4-b5a7-35dbd5acc695",
   "metadata": {},
   "outputs": [
    {
     "name": "stdout",
     "output_type": "stream",
     "text": [
      "[1, 2, 3, 4, 5]\n",
      "(1, 2, 3, 4, 5)\n"
     ]
    }
   ],
   "source": [
    "# list are mutuable \n",
    "#we use [] in list\n",
    "# tuples are immutable \n",
    "#we use () in tuples \n",
    "\n",
    "#example\n",
    "list=[1,2,3,4,5]\n",
    "print(list)\n",
    "\n",
    "tuples=(1,2,3,4,5)\n",
    "print(tuples)\n",
    "\n"
   ]
  },
  {
   "cell_type": "code",
   "execution_count": null,
   "id": "b384ef83-d23d-4943-83e5-3194011c95c2",
   "metadata": {},
   "outputs": [],
   "source": []
  },
  {
   "cell_type": "code",
   "execution_count": 9,
   "id": "57dbcd67-9ea8-4f4b-a871-5c860a660765",
   "metadata": {},
   "outputs": [
    {
     "name": "stdin",
     "output_type": "stream",
     "text": [
      "enter your name rachit\n",
      "enter your marks 100\n"
     ]
    }
   ],
   "source": [
    "#input() function helps in getting input from the user it is mainly used when the input is required from the user such as form filling or any personal details \n",
    "#it returns a string data type\n",
    "#we can convert it by using int at beginning or can say by typecasting\n",
    "\n",
    "#example \n",
    "name=input('enter your name')\n",
    "marks=int(input('enter your marks'))"
   ]
  },
  {
   "cell_type": "code",
   "execution_count": null,
   "id": "5e09c456-7ff4-4dd9-84f7-6785f64747cc",
   "metadata": {},
   "outputs": [],
   "source": []
  },
  {
   "cell_type": "code",
   "execution_count": 10,
   "id": "415fd371-ce77-45e1-a512-994686f30145",
   "metadata": {},
   "outputs": [
    {
     "data": {
      "text/plain": [
       "{'name': 'rachit', 'class': 'e2', 'subject': 'bca'}"
      ]
     },
     "execution_count": 10,
     "metadata": {},
     "output_type": "execute_result"
    }
   ],
   "source": [
    "# python dictionaries are basically used with assigning the key values it mainly works with key values asigned to it is indicated by {} \n",
    "a={'name':'rachit','class':'e2', 'subject' : 'bca'}\n",
    "a"
   ]
  },
  {
   "cell_type": "code",
   "execution_count": null,
   "id": "aff9e8ab-947b-4fa9-900e-3e329b1a8d1b",
   "metadata": {},
   "outputs": [],
   "source": []
  },
  {
   "cell_type": "code",
   "execution_count": 14,
   "id": "2a13495d-9474-40e3-a633-05d8ef14ec4e",
   "metadata": {},
   "outputs": [
    {
     "name": "stdout",
     "output_type": "stream",
     "text": [
      "1\n",
      "2\n",
      "3\n",
      "4\n",
      "5\n"
     ]
    }
   ],
   "source": [
    "for i in range(5):\n",
    "  print (i+1)"
   ]
  },
  {
   "cell_type": "code",
   "execution_count": 15,
   "id": "c6127a0b-d234-48a6-b5b5-71151ea9208e",
   "metadata": {},
   "outputs": [],
   "source": [
    "#for loop is used to initialize the program using the conditions given until the outcomes come "
   ]
  },
  {
   "cell_type": "code",
   "execution_count": null,
   "id": "ed88575d-9176-401a-8120-9a918b198bed",
   "metadata": {},
   "outputs": [],
   "source": []
  },
  {
   "cell_type": "code",
   "execution_count": 16,
   "id": "85f499a7-bcd4-4686-a9fe-c8c7fc21faa8",
   "metadata": {},
   "outputs": [],
   "source": [
    "#exceptionm handling are the unwanted errors that occurs while executing the program "
   ]
  },
  {
   "cell_type": "code",
   "execution_count": 7,
   "id": "b6ab5b1d-5c7e-4e2e-8474-2625b77da0f6",
   "metadata": {},
   "outputs": [
    {
     "name": "stdin",
     "output_type": "stream",
     "text": [
      "enter your age 20\n"
     ]
    },
    {
     "name": "stdout",
     "output_type": "stream",
     "text": [
      "you can vote\n",
      "can vote anyways\n"
     ]
    }
   ],
   "source": [
    "age = int(input('enter your age'))\n",
    "try:\n",
    "    if age>=18:\n",
    "      print('you can vote')\n",
    "except typeerror:\n",
    "    print('invalid')\n",
    "finally:\n",
    "    print('can vote anyways')\n"
   ]
  },
  {
   "cell_type": "code",
   "execution_count": null,
   "id": "acbd878a-3584-43c4-b809-f9cc6a297732",
   "metadata": {},
   "outputs": [],
   "source": []
  },
  {
   "cell_type": "code",
   "execution_count": null,
   "id": "30344065-5237-4215-9eac-5e38f6dd22a3",
   "metadata": {},
   "outputs": [],
   "source": [
    "#python modules are the filess which contains all the functions a"
   ]
  },
  {
   "cell_type": "code",
   "execution_count": null,
   "id": "1d9253eb-2aac-42bf-8edf-cbee2e88a817",
   "metadata": {},
   "outputs": [],
   "source": []
  },
  {
   "cell_type": "code",
   "execution_count": null,
   "id": "11e8380f-d11f-4167-aba2-d4ee4182079d",
   "metadata": {},
   "outputs": [],
   "source": [
    "#q7\n",
    "#oops basically works with the help of classes and objects it consists of 4 pillars ie encapsulation,inheritence,abstraction,polymorphism\n",
    "#classes are the blueprints in which object are created \n",
    "#objects are the realm world enteties or ther instances calles while creating classes"
   ]
  },
  {
   "cell_type": "code",
   "execution_count": 37,
   "id": "f9919a8e-1b51-40bb-9166-d63c07364454",
   "metadata": {},
   "outputs": [],
   "source": [
    "continue at last"
   ]
  },
  {
   "cell_type": "code",
   "execution_count": 17,
   "id": "c609f6be-f8af-4586-bd25-fa579a3fb196",
   "metadata": {},
   "outputs": [
    {
     "name": "stdin",
     "output_type": "stream",
     "text": [
      "enter your name rachit\n",
      "enter your age 21\n"
     ]
    },
    {
     "name": "stdout",
     "output_type": "stream",
     "text": [
      "hello rachit how are you\n",
      " you are 21 years old\n"
     ]
    }
   ],
   "source": [
    "#q 10 \n",
    "name=input('enter your name')\n",
    "age=int(input('enter your age'))\n",
    "print(f'hello {name} how are you')\n",
    "print(f' you are {age} years old')\n",
    "            \n",
    "\n",
    "                               \n"
   ]
  },
  {
   "cell_type": "code",
   "execution_count": null,
   "id": "1e2afb35-9018-4999-8568-32c71463a689",
   "metadata": {},
   "outputs": [],
   "source": []
  },
  {
   "cell_type": "code",
   "execution_count": 35,
   "id": "f4dac342-c5a1-4c9a-9eca-9deb4d66f48f",
   "metadata": {},
   "outputs": [
    {
     "name": "stdout",
     "output_type": "stream",
     "text": [
      "1.apple\n",
      "2.banana\n",
      "3.grapes\n",
      "4.avacado\n",
      "5.papaya\n"
     ]
    }
   ],
   "source": [
    "#question 11\n",
    "fruit=[ 'apple','banana','grapes','avacado','papaya']\n",
    "for index,fruit in enumerate(fruit,start=1):\n",
    "    print(f'{index}.{fruit}')\n"
   ]
  },
  {
   "cell_type": "code",
   "execution_count": null,
   "id": "580d259a-53b4-4195-a3af-211eda3629af",
   "metadata": {},
   "outputs": [],
   "source": []
  },
  {
   "cell_type": "code",
   "execution_count": 29,
   "id": "f42e4009-c5bb-49fb-98ea-1a36af9d6fd5",
   "metadata": {},
   "outputs": [
    {
     "name": "stdout",
     "output_type": "stream",
     "text": [
      "78.5\n"
     ]
    }
   ],
   "source": [
    "#question 9\n",
    "\n",
    "def calculate_area():\n",
    "    r = int(input('enter the radius'))\n",
    "   \n",
    "\n",
    "r= 5\n",
    "a=3.14\n",
    "area = a *r*r\n",
    "print( area)"
   ]
  },
  {
   "cell_type": "code",
   "execution_count": null,
   "id": "4aadadfa-b2cc-435b-975a-3c0f96d28a5f",
   "metadata": {},
   "outputs": [],
   "source": []
  },
  {
   "cell_type": "code",
   "execution_count": 38,
   "id": "3a7f5347-7283-4797-b580-5a1c9130b33f",
   "metadata": {},
   "outputs": [],
   "source": [
    "#q7\n",
    "class Dog:\n",
    "   def barks(self):\n",
    "       print('barking')\n",
    "\n",
    "       \n"
   ]
  },
  {
   "cell_type": "code",
   "execution_count": null,
   "id": "ec5a54c5-65cb-422b-81cb-0b9b805b8968",
   "metadata": {},
   "outputs": [],
   "source": []
  },
  {
   "cell_type": "code",
   "execution_count": 39,
   "id": "f0d3309e-de6a-473d-a1d0-2ca19136de65",
   "metadata": {},
   "outputs": [],
   "source": [
    "bunny=Dog()"
   ]
  },
  {
   "cell_type": "code",
   "execution_count": 40,
   "id": "d01a489c-5a33-4966-ac7a-a6297f93856c",
   "metadata": {},
   "outputs": [
    {
     "name": "stdout",
     "output_type": "stream",
     "text": [
      "barking\n"
     ]
    }
   ],
   "source": [
    "bunny.barks()"
   ]
  },
  {
   "cell_type": "code",
   "execution_count": null,
   "id": "22932b99-606f-41c2-89ca-b827e9ffccd8",
   "metadata": {},
   "outputs": [],
   "source": []
  }
 ],
 "metadata": {
  "kernelspec": {
   "display_name": "Python 3 (ipykernel)",
   "language": "python",
   "name": "python3"
  },
  "language_info": {
   "codemirror_mode": {
    "name": "ipython",
    "version": 3
   },
   "file_extension": ".py",
   "mimetype": "text/x-python",
   "name": "python",
   "nbconvert_exporter": "python",
   "pygments_lexer": "ipython3",
   "version": "3.13.5"
  }
 },
 "nbformat": 4,
 "nbformat_minor": 5
}
