{
 "cells": [
  {
   "cell_type": "code",
   "execution_count": 5,
   "id": "b5371660-790d-4931-a083-3c2afe68d52d",
   "metadata": {},
   "outputs": [
    {
     "ename": "SyntaxError",
     "evalue": "invalid syntax (1228074150.py, line 8)",
     "output_type": "error",
     "traceback": [
      "\u001b[1;36m  Cell \u001b[1;32mIn[5], line 8\u001b[1;36m\u001b[0m\n\u001b[1;33m    except TypeError:\u001b[0m\n\u001b[1;37m    ^\u001b[0m\n\u001b[1;31mSyntaxError\u001b[0m\u001b[1;31m:\u001b[0m invalid syntax\n"
     ]
    }
   ],
   "source": [
    "#exception handling \n",
    "age='23'\n",
    "try:\n",
    "    if age>18:\n",
    "        print('can vote')\n",
    "    else:\n",
    "        print('cant vote')\n",
    "    except TypeError:\n",
    "        print('something went wrong')\n",
    "        print('invalid datatype comparison!!')\n",
    "    #except:\n",
    "     # print('invalid code')\n"
   ]
  },
  {
   "cell_type": "code",
   "execution_count": 7,
   "id": "f07aad54-e5b2-46d1-b843-b152d96b4016",
   "metadata": {},
   "outputs": [
    {
     "name": "stdout",
     "output_type": "stream",
     "text": [
      "something went wrong\n",
      "invalid datatype comparison!!\n"
     ]
    }
   ],
   "source": [
    "age ='23'\n",
    "try:\n",
    "    if age>=18:\n",
    "        print('can vote')\n",
    "    else:\n",
    "        print('cant vote')\n",
    "except TypeError:\n",
    "    print('something went wrong')\n",
    "    print('invalid datatype comparison!!')\n",
    "    #except:\n",
    "     # print('invalid code')\n"
   ]
  },
  {
   "cell_type": "code",
   "execution_count": 11,
   "id": "00e29b42-10a1-4792-a2f4-14b1d645b181",
   "metadata": {},
   "outputs": [],
   "source": [
    "def student_records(**kwargs):\n",
    "    import pandas as pd \n",
    "    try:\n",
    "        data = pd.DataFrame(kwargs)\n",
    "        return data\n",
    "    except:\n",
    "      data = pd.DataFrame(kwargs,index=[1])\n",
    "      return data "
   ]
  },
  {
   "cell_type": "raw",
   "id": "cd4cd180-cfe2-40d9-8d28-d2e1e0f51d82",
   "metadata": {},
   "source": [
    "student_records(Name='ajay',age=12,address='noida')"
   ]
  },
  {
   "cell_type": "code",
   "execution_count": null,
   "id": "3fc2820b-12a5-467b-886e-10e2a04dcc24",
   "metadata": {},
   "outputs": [],
   "source": [
    "def student_records(**kwargs):\n",
    "    import pandas as pd \n",
    "    try:\n",
    "        data = pd.DataFrame(kwargs)\n",
    "        return data\n",
    "    except:\n",
    "      data = pd.DataFrame(kwargs,index=[1])\n",
    "      return data "
   ]
  },
  {
   "cell_type": "code",
   "execution_count": 24,
   "id": "e34511fc-aecc-4bc2-9053-88903da107e8",
   "metadata": {},
   "outputs": [
    {
     "data": {
      "text/html": [
       "<div>\n",
       "<style scoped>\n",
       "    .dataframe tbody tr th:only-of-type {\n",
       "        vertical-align: middle;\n",
       "    }\n",
       "\n",
       "    .dataframe tbody tr th {\n",
       "        vertical-align: top;\n",
       "    }\n",
       "\n",
       "    .dataframe thead th {\n",
       "        text-align: right;\n",
       "    }\n",
       "</style>\n",
       "<table border=\"1\" class=\"dataframe\">\n",
       "  <thead>\n",
       "    <tr style=\"text-align: right;\">\n",
       "      <th></th>\n",
       "      <th>name</th>\n",
       "      <th>address</th>\n",
       "      <th>sec</th>\n",
       "    </tr>\n",
       "  </thead>\n",
       "  <tbody>\n",
       "    <tr>\n",
       "      <th>0</th>\n",
       "      <td>aman</td>\n",
       "      <td>noida</td>\n",
       "      <td>a</td>\n",
       "    </tr>\n",
       "    <tr>\n",
       "      <th>1</th>\n",
       "      <td>karan</td>\n",
       "      <td>delhi</td>\n",
       "      <td>b</td>\n",
       "    </tr>\n",
       "    <tr>\n",
       "      <th>2</th>\n",
       "      <td>fazal</td>\n",
       "      <td>noida</td>\n",
       "      <td>c</td>\n",
       "    </tr>\n",
       "  </tbody>\n",
       "</table>\n",
       "</div>"
      ],
      "text/plain": [
       "    name address sec\n",
       "0   aman   noida   a\n",
       "1  karan   delhi   b\n",
       "2  fazal   noida   c"
      ]
     },
     "execution_count": 24,
     "metadata": {},
     "output_type": "execute_result"
    }
   ],
   "source": [
    "student_records(name=['aman','karan','fazal'],\n",
    "                address=['noida','delhi','noida'],\n",
    "                sec=list('abc'))"
   ]
  },
  {
   "cell_type": "code",
   "execution_count": 23,
   "id": "1b91db48-4c24-4523-95e0-503d45ea16bf",
   "metadata": {},
   "outputs": [
    {
     "ename": "_IncompleteInputError",
     "evalue": "incomplete input (3257795016.py, line 8)",
     "output_type": "error",
     "traceback": [
      "\u001b[1;36m  Cell \u001b[1;32mIn[23], line 8\u001b[1;36m\u001b[0m\n\u001b[1;33m    \u001b[0m\n\u001b[1;37m    ^\u001b[0m\n\u001b[1;31m_IncompleteInputError\u001b[0m\u001b[1;31m:\u001b[0m incomplete input\n"
     ]
    }
   ],
   "source": [
    "def show_time():\n",
    "    try:\n",
    "        while True:\n",
    "            import time\n",
    "            print(time.asctime())\n",
    "            time.sleep(1)\n",
    "            display(clear=True)\n",
    "    "
   ]
  },
  {
   "cell_type": "code",
   "execution_count": null,
   "id": "572be6c6-8beb-4ba9-b0b0-75f73e094190",
   "metadata": {},
   "outputs": [],
   "source": [
    "show_time()"
   ]
  },
  {
   "cell_type": "code",
   "execution_count": null,
   "id": "ffa1a009-7130-48fc-8011-8115648658b3",
   "metadata": {},
   "outputs": [],
   "source": [
    "def show_time():\n",
    "    try:\n",
    "        while True:\n",
    "            import time\n",
    "            print(time.asctime())\n",
    "            time.sleep(1)\n",
    "            display(clear=True)\n",
    "            except:\n",
    "        print('\n",
    "    "
   ]
  },
  {
   "cell_type": "code",
   "execution_count": null,
   "id": "cda07ff0-3367-4e5c-a855-36bb4a82df68",
   "metadata": {},
   "outputs": [],
   "source": []
  },
  {
   "cell_type": "code",
   "execution_count": null,
   "id": "43a10323-9a5e-44dd-9ed0-0deffbd28baa",
   "metadata": {},
   "outputs": [],
   "source": []
  },
  {
   "cell_type": "code",
   "execution_count": null,
   "id": "bfe70523-a467-470f-92bb-30d462d74d19",
   "metadata": {},
   "outputs": [],
   "source": []
  },
  {
   "cell_type": "code",
   "execution_count": 1,
   "id": "870e6999-3730-4227-9fc1-a8b5bd6f6cc0",
   "metadata": {},
   "outputs": [
    {
     "name": "stdout",
     "output_type": "stream",
     "text": [
      "This is Rachit Module in Python\n",
      "info: http://localhost:8888/notebooks/Untitled1.ipynb\n",
      "something went wrong\n",
      "invalid datatype comparison!!\n"
     ]
    },
    {
     "data": {
      "text/plain": [
       "55"
      ]
     },
     "execution_count": 1,
     "metadata": {},
     "output_type": "execute_result"
    }
   ],
   "source": [
    "import rachit as r\n",
    "r.check_palindrome('nitin')\n",
    "r.give_fibo(12)\n",
    "r.sum_of_n_natural_numbers(10)\n"
   ]
  },
  {
   "cell_type": "raw",
   "id": "a001d006-f454-4963-88b2-9f57a4000704",
   "metadata": {},
   "source": []
  },
  {
   "cell_type": "raw",
   "id": "a2c4b6d0-1872-481e-b93b-ea72baa1a6a6",
   "metadata": {},
   "source": []
  },
  {
   "cell_type": "code",
   "execution_count": 2,
   "id": "51b08098-4c30-4c2c-a4dd-7a9a80a55f7f",
   "metadata": {},
   "outputs": [
    {
     "name": "stdout",
     "output_type": "stream",
     "text": [
      "done\n"
     ]
    }
   ],
   "source": [
    "from rachit import *\n",
    "print('done')"
   ]
  },
  {
   "cell_type": "code",
   "execution_count": 3,
   "id": "7c17ec61-36b5-4377-92d6-a2c1880a8646",
   "metadata": {},
   "outputs": [
    {
     "name": "stdout",
     "output_type": "stream",
     "text": [
      "hello\n"
     ]
    }
   ],
   "source": [
    "import turtle\n",
    "print('hello')"
   ]
  },
  {
   "cell_type": "raw",
   "id": "6763d18a-fdac-49ce-8e73-ba370f0a8967",
   "metadata": {},
   "source": [
    "import turtle\n",
    "for i in range(4):\n",
    "    turtle.circle(100)\n",
    "    turtle.left(90)"
   ]
  },
  {
   "cell_type": "code",
   "execution_count": 2,
   "id": "92a699aa-7fdd-4d10-a0e5-bb7808ed7e71",
   "metadata": {},
   "outputs": [],
   "source": [
    "import turtle\n",
    "for i in range(120):\n",
    "    turtle.speed(0)\n",
    "    turtle.bgcolor('black')\n",
    "    col=['red','blue','green','yellow','orange']\n",
    "    import random\n",
    "    picked_color=random.choice(col)\n",
    "    turtle.color(picked_color)\n",
    "    turtle.circle(100)\n",
    "    turtle.left(3)"
   ]
  },
  {
   "cell_type": "code",
   "execution_count": 1,
   "id": "10c4f6e8-c28e-415a-80b0-1af37ca26f08",
   "metadata": {},
   "outputs": [],
   "source": [
    "import turtle\n",
    "for i in range(3):\n",
    "    turtle.bgcolor('black')\n",
    "    turtle.color('blue')\n",
    "    turtle.forward(100)\n",
    "    turtle.left(60)\n",
    "    "
   ]
  },
  {
   "cell_type": "code",
   "execution_count": null,
   "id": "4374e9e1-4bab-433b-a153-9703364e2016",
   "metadata": {},
   "outputs": [],
   "source": []
  },
  {
   "cell_type": "code",
   "execution_count": null,
   "id": "6b4a41a2-081d-49e5-b182-3c341daf14d4",
   "metadata": {},
   "outputs": [],
   "source": []
  },
  {
   "cell_type": "code",
   "execution_count": null,
   "id": "25eab80b-4110-4022-abd7-ccde9f611666",
   "metadata": {},
   "outputs": [],
   "source": [
    "#FILE HANDLING "
   ]
  },
  {
   "cell_type": "code",
   "execution_count": 3,
   "id": "f3b22c2f-8af5-4e12-8dbc-1e1796449477",
   "metadata": {},
   "outputs": [
    {
     "name": "stdout",
     "output_type": "stream",
     "text": [
      "print('''This is Rachit Module in Python\n",
      "info: http://localhost:8888/notebooks/Untitled1.ipynb''')\n",
      "\n",
      "\n"
     ]
    }
   ],
   "source": [
    "file = open('rachit.py',mode='r')\n",
    "print(file.read(100))\n",
    "file.close()"
   ]
  },
  {
   "cell_type": "code",
   "execution_count": 9,
   "id": "1ccb479b-7bf8-4cc6-b9e2-8d4e7eceb077",
   "metadata": {},
   "outputs": [],
   "source": [
    "f=open('rachit.py',mode='r')\n"
   ]
  },
  {
   "cell_type": "code",
   "execution_count": 10,
   "id": "61cd2286-e42d-41c1-8dba-7d5e048c1ef8",
   "metadata": {},
   "outputs": [
    {
     "name": "stdout",
     "output_type": "stream",
     "text": [
      "print('''This is Rachit Module in Python\n",
      "\n"
     ]
    }
   ],
   "source": [
    "print(f.readline())"
   ]
  },
  {
   "cell_type": "code",
   "execution_count": 11,
   "id": "4c72942b-99a2-48c8-9007-4b6fb9978545",
   "metadata": {},
   "outputs": [
    {
     "name": "stdout",
     "output_type": "stream",
     "text": [
      "done\n"
     ]
    }
   ],
   "source": [
    "f.close()\n",
    "print('done')"
   ]
  },
  {
   "cell_type": "code",
   "execution_count": 12,
   "id": "9c36e6e8-68e2-46bf-9afa-b098e1abb1d3",
   "metadata": {},
   "outputs": [
    {
     "name": "stdout",
     "output_type": "stream",
     "text": [
      "print('''This is Rachit Module in Python\n",
      "\n",
      "info: http://localhost:8888/notebooks/Untitled1.ipynb''')\n",
      "\n",
      "\n",
      "\n",
      "\n",
      "\n",
      "def check_palindrome(word:str):\n",
      "\n"
     ]
    }
   ],
   "source": [
    "f = open('rachit.py',mode='r')\n",
    "for i in range(5):\n",
    "    print(f.readline())"
   ]
  },
  {
   "cell_type": "code",
   "execution_count": 14,
   "id": "539ef032-47a2-4120-80b2-8025447576ae",
   "metadata": {},
   "outputs": [
    {
     "name": "stdout",
     "output_type": "stream",
     "text": [
      "def check_palindrome(word:str):\n",
      "\n"
     ]
    }
   ],
   "source": [
    "f = open('rachit.py',mode='r')\n",
    "for i in range(10):\n",
    "    if i==4:\n",
    "      print(f.readline())\n",
    "    else:\n",
    "       f.readline()"
   ]
  },
  {
   "cell_type": "code",
   "execution_count": 20,
   "id": "33e51577-fe10-41bf-883f-602c9cf5f7c6",
   "metadata": {},
   "outputs": [
    {
     "name": "stdout",
     "output_type": "stream",
     "text": [
      "done\n"
     ]
    }
   ],
   "source": [
    "f = open('rachit.py',mode='r')\n",
    "data=f.readlines()\n",
    "\n",
    "f.close()\n",
    "print('done')\n",
    "        "
   ]
  },
  {
   "cell_type": "code",
   "execution_count": null,
   "id": "057f13b6-64bd-4252-be73-8a088cddca1a",
   "metadata": {},
   "outputs": [],
   "source": []
  }
 ],
 "metadata": {
  "kernelspec": {
   "display_name": "Python 3 (ipykernel)",
   "language": "python",
   "name": "python3"
  },
  "language_info": {
   "codemirror_mode": {
    "name": "ipython",
    "version": 3
   },
   "file_extension": ".py",
   "mimetype": "text/x-python",
   "name": "python",
   "nbconvert_exporter": "python",
   "pygments_lexer": "ipython3",
   "version": "3.13.5"
  }
 },
 "nbformat": 4,
 "nbformat_minor": 5
}
