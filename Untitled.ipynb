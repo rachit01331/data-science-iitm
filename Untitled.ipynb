{
 "cells": [
  {
   "cell_type": "code",
   "execution_count": 1,
   "id": "77cd05dc-d1ff-4946-bc63-32a9e5e97ccd",
   "metadata": {},
   "outputs": [],
   "source": [
    "#functional programing"
   ]
  },
  {
   "cell_type": "code",
   "execution_count": 4,
   "id": "91c0cd0d-2530-48c3-ad2c-ba0c0a548e30",
   "metadata": {},
   "outputs": [],
   "source": [
    "def check_palindrome(word):\n",
    "    return(word)"
   ]
  },
  {
   "cell_type": "code",
   "execution_count": 5,
   "id": "5e350483-a8b9-42d3-a60b-829b370bf6aa",
   "metadata": {},
   "outputs": [
    {
     "data": {
      "text/plain": [
       "'Ajay'"
      ]
     },
     "execution_count": 5,
     "metadata": {},
     "output_type": "execute_result"
    }
   ],
   "source": [
    "check_palindrome('Ajay')"
   ]
  },
  {
   "cell_type": "code",
   "execution_count": 7,
   "id": "e8b1774a-0fcb-49e0-ae7e-161f5fac4c63",
   "metadata": {},
   "outputs": [
    {
     "data": {
      "text/plain": [
       "'ykcul'"
      ]
     },
     "execution_count": 7,
     "metadata": {},
     "output_type": "execute_result"
    }
   ],
   "source": [
    "a='lucky'\n",
    "a[::-1]"
   ]
  },
  {
   "cell_type": "code",
   "execution_count": 9,
   "id": "cf1f6e57-89fd-4593-bae4-555659b9a97a",
   "metadata": {},
   "outputs": [
    {
     "name": "stdout",
     "output_type": "stream",
     "text": [
      "nitin is a palindrome\n"
     ]
    }
   ],
   "source": [
    "a=\"nitin\"\n",
    "if a== a[::-1]:\n",
    "    print(f'{a} is a palindrome')\n",
    "else:\n",
    "    print(f'{a} is not a palindrome')"
   ]
  },
  {
   "cell_type": "code",
   "execution_count": 10,
   "id": "2a95e089-9a17-4ee5-8006-c59572e87f4b",
   "metadata": {},
   "outputs": [],
   "source": [
    "def check_palindrome(word):\n",
    "    if word== word[::-1]:\n",
    "        return 'palindrome'\n",
    "    else:\n",
    "        return'not a palindrome'"
   ]
  },
  {
   "cell_type": "code",
   "execution_count": 30,
   "id": "ecf42dbf-c908-4ab6-b2e4-0c05a0699a2a",
   "metadata": {},
   "outputs": [
    {
     "data": {
      "text/plain": [
       "'palindrome'"
      ]
     },
     "execution_count": 30,
     "metadata": {},
     "output_type": "execute_result"
    }
   ],
   "source": [
    "check_palindrome('nitin')"
   ]
  },
  {
   "cell_type": "code",
   "execution_count": 34,
   "id": "9a4042be-c05c-4da7-9155-912688356909",
   "metadata": {},
   "outputs": [],
   "source": [
    "def give_fibo(n):\n",
    "    fibo=[0,1]\n",
    "    for i in range(n-2):\n",
    "        last_num= fibo[-1]\n",
    "        second_last_num= fibo[-2]\n",
    "        next_num= last_num + second_last_num\n",
    "        fibo.append(next_num)\n",
    "    return fibo\n"
   ]
  },
  {
   "cell_type": "code",
   "execution_count": 36,
   "id": "65dc113f-3ab9-4e6d-b353-4b207ef3f30a",
   "metadata": {},
   "outputs": [
    {
     "name": "stdout",
     "output_type": "stream",
     "text": [
      "[0, 1, 1, 2, 3, 5, 8, 13, 21, 34, 55, 89, 144, 233, 377, 610, 987, 1597, 2584, 4181]\n"
     ]
    }
   ],
   "source": [
    "print(give_fibo(20))"
   ]
  },
  {
   "cell_type": "code",
   "execution_count": 43,
   "id": "c006ead2-6df3-4b05-a4f2-067769a6d2d8",
   "metadata": {},
   "outputs": [],
   "source": [
    "def check_prime(number):\n",
    "    for i in range(2,number):\n",
    "        if number%i==0:\n",
    "           return'not a prime number'\n",
    "        print('happy holi')\n",
    "        break\n",
    "    else:\n",
    "        return'prime number'\n"
   ]
  },
  {
   "cell_type": "code",
   "execution_count": 44,
   "id": "163f1936-e6e8-4716-be10-70ad264d829a",
   "metadata": {},
   "outputs": [
    {
     "name": "stdout",
     "output_type": "stream",
     "text": [
      "happy holi\n"
     ]
    }
   ],
   "source": [
    "check_prime(35)"
   ]
  },
  {
   "cell_type": "code",
   "execution_count": 50,
   "id": "755ea8e9-0584-4b78-ad42-acdedab6e37e",
   "metadata": {},
   "outputs": [
    {
     "name": "stdout",
     "output_type": "stream",
     "text": [
      "*\n",
      "**\n",
      "***\n",
      "****\n",
      "*****\n"
     ]
    }
   ],
   "source": [
    "n=5\n",
    "for i in range(1,n+1):\n",
    "    print(i*'*')"
   ]
  },
  {
   "cell_type": "code",
   "execution_count": 61,
   "id": "8276f37c-e148-4d9a-9f19-37e549830548",
   "metadata": {},
   "outputs": [
    {
     "name": "stdout",
     "output_type": "stream",
     "text": [
      "    *  \n",
      "    *  *  \n",
      "    *  *  *  \n",
      "    *  *  *  *  \n",
      "    *  *  *  *  *  \n"
     ]
    }
   ],
   "source": [
    "n=5\n",
    "for i in range(1,n+1):\n",
    "    print(' '*(n-1)+i*'*  ')\n",
    "    "
   ]
  },
  {
   "cell_type": "code",
   "execution_count": 62,
   "id": "062ee45a-beea-42af-b17a-4f69d4cd54a4",
   "metadata": {},
   "outputs": [],
   "source": [
    "def print_star(n=5,typ='left'):\n",
    "    for i in  range (1,n+1):\n",
    "        print(''*(n-i)+i*'*')"
   ]
  },
  {
   "cell_type": "code",
   "execution_count": 64,
   "id": "e09394f9-0941-4784-9d49-951cab895fc9",
   "metadata": {},
   "outputs": [
    {
     "name": "stdout",
     "output_type": "stream",
     "text": [
      "*\n",
      "**\n",
      "***\n",
      "****\n",
      "*****\n",
      "******\n"
     ]
    }
   ],
   "source": [
    "print_star(6)\n"
   ]
  },
  {
   "cell_type": "code",
   "execution_count": 76,
   "id": "877d02ef-b60e-463f-b767-9e221763c2ec",
   "metadata": {},
   "outputs": [],
   "source": [
    "def sum_of_n_natural_numbers(n):\n",
    "    result=0\n",
    "    for i in range(1,n+1):\n",
    "        result +=i\n",
    "    return result\n"
   ]
  },
  {
   "cell_type": "code",
   "execution_count": 77,
   "id": "5ecf9818-9b92-49c9-9b17-cec80e4c0ff8",
   "metadata": {},
   "outputs": [
    {
     "data": {
      "text/plain": [
       "210"
      ]
     },
     "execution_count": 77,
     "metadata": {},
     "output_type": "execute_result"
    }
   ],
   "source": [
    "sum_of_n_natural_numbers(20)\n"
   ]
  },
  {
   "cell_type": "code",
   "execution_count": 88,
   "id": "6fb52345-7c34-4a8d-9d19-730aa9860550",
   "metadata": {},
   "outputs": [],
   "source": [
    "def factorial(n):\n",
    "    result=1\n",
    "    for i in range(1,n+1):\n",
    "        result*=i\n",
    "    return result"
   ]
  },
  {
   "cell_type": "code",
   "execution_count": 89,
   "id": "e65232b7-dc80-41c4-98aa-a2cbb83138e7",
   "metadata": {},
   "outputs": [
    {
     "data": {
      "text/plain": [
       "120"
      ]
     },
     "execution_count": 89,
     "metadata": {},
     "output_type": "execute_result"
    }
   ],
   "source": [
    "factorial(5)"
   ]
  },
  {
   "cell_type": "code",
   "execution_count": 97,
   "id": "c9b18590-1beb-4dbc-800f-ca032c44a903",
   "metadata": {},
   "outputs": [],
   "source": [
    "def total_sales(*args):\n",
    "     #unpacking\n",
    "    result=0\n",
    "    for i in args:\n",
    "        result +=i \n",
    "    return result\n",
    "        \n",
    "        "
   ]
  },
  {
   "cell_type": "code",
   "execution_count": 98,
   "id": "6c6234fb-650c-49af-81a3-28c709fdbd79",
   "metadata": {},
   "outputs": [
    {
     "data": {
      "text/plain": [
       "144"
      ]
     },
     "execution_count": 98,
     "metadata": {},
     "output_type": "execute_result"
    }
   ],
   "source": [
    "total_sales(1,2,3,4,56,78)\n"
   ]
  },
  {
   "cell_type": "code",
   "execution_count": 102,
   "id": "a0af88b6-d242-4e58-8e20-bc191f55f9c5",
   "metadata": {},
   "outputs": [],
   "source": [
    "sales=[435,63,347,3245,6234,2345,23456,3,45678]\n",
    "#min(sales)\n"
   ]
  },
  {
   "cell_type": "code",
   "execution_count": 104,
   "id": "74e7bbd0-2880-415f-ae81-34c6e350700c",
   "metadata": {},
   "outputs": [
    {
     "name": "stdout",
     "output_type": "stream",
     "text": [
      "3\n"
     ]
    }
   ],
   "source": [
    "min_element=sales[0]\n",
    "for i in sales[1:]:\n",
    "    if i< min_element:\n",
    "        min_element=i\n",
    "print(min_element)"
   ]
  },
  {
   "cell_type": "code",
   "execution_count": 105,
   "id": "e0c75d56-60a4-40be-84bd-c3d7bd15e5bc",
   "metadata": {},
   "outputs": [
    {
     "name": "stdout",
     "output_type": "stream",
     "text": [
      "45678\n"
     ]
    }
   ],
   "source": [
    "max_element=sales[0]\n",
    "for i in sales[1:]:\n",
    "    if i>min_element:\n",
    "        max_element=i\n",
    "print(max_element)"
   ]
  },
  {
   "cell_type": "code",
   "execution_count": 114,
   "id": "008195c6-0327-43f1-9e07-38b90fc0a685",
   "metadata": {},
   "outputs": [],
   "source": [
    "def max_sales(*sales):\n",
    "    sales=list(sales)\n",
    "    max_element=sales[0]\n",
    "    for i in sales[1:]:\n",
    "        if i>max_element:\n",
    "            max_element=i\n",
    "    print(max_element)"
   ]
  },
  {
   "cell_type": "code",
   "execution_count": 115,
   "id": "abcd0e99-77db-4ed7-9e72-852344383198",
   "metadata": {},
   "outputs": [
    {
     "name": "stdout",
     "output_type": "stream",
     "text": [
      "1000\n"
     ]
    }
   ],
   "source": [
    "max_sales(10,400,500,600,1000)"
   ]
  },
  {
   "cell_type": "code",
   "execution_count": 125,
   "id": "d110a7f1-b653-4a2b-aaed-f8210b373971",
   "metadata": {},
   "outputs": [],
   "source": [
    "company=['ola','uber','rapido','tata','adani']\n",
    "def add_hashtag(*company):\n",
    "    result=[]\n",
    "    for i in company:\n",
    "            result.append('#'+i.upper())\n",
    "    return result"
   ]
  },
  {
   "cell_type": "code",
   "execution_count": 128,
   "id": "485c86ff-628e-4cba-9575-3ac74ffb4847",
   "metadata": {},
   "outputs": [
    {
     "data": {
      "text/plain": [
       "['#BUGGATI']"
      ]
     },
     "execution_count": 128,
     "metadata": {},
     "output_type": "execute_result"
    }
   ],
   "source": [
    "add_hashtag('buggati')"
   ]
  },
  {
   "cell_type": "code",
   "execution_count": 130,
   "id": "f42b2147-ae7f-4e3b-8b49-067bc0bbfba0",
   "metadata": {},
   "outputs": [],
   "source": [
    "def store_records(name,age,sec,roll_no,Class):\n",
    "    data = {'Name':name,'Age':age,'Sec':sec,'Roll_No':roll_no,'Class':Class}\n",
    "    import pandas as pd\n",
    "    result=pd.DataFrame(data,index=[1])\n",
    "    return result"
   ]
  },
  {
   "cell_type": "code",
   "execution_count": 132,
   "id": "baa9379c-fd2d-4f85-8204-304d746560d7",
   "metadata": {},
   "outputs": [
    {
     "data": {
      "text/html": [
       "<div>\n",
       "<style scoped>\n",
       "    .dataframe tbody tr th:only-of-type {\n",
       "        vertical-align: middle;\n",
       "    }\n",
       "\n",
       "    .dataframe tbody tr th {\n",
       "        vertical-align: top;\n",
       "    }\n",
       "\n",
       "    .dataframe thead th {\n",
       "        text-align: right;\n",
       "    }\n",
       "</style>\n",
       "<table border=\"1\" class=\"dataframe\">\n",
       "  <thead>\n",
       "    <tr style=\"text-align: right;\">\n",
       "      <th></th>\n",
       "      <th>Name</th>\n",
       "      <th>Age</th>\n",
       "      <th>Sec</th>\n",
       "      <th>Roll_No</th>\n",
       "      <th>Class</th>\n",
       "    </tr>\n",
       "  </thead>\n",
       "  <tbody>\n",
       "    <tr>\n",
       "      <th>1</th>\n",
       "      <td>Rachit</td>\n",
       "      <td>20</td>\n",
       "      <td>A</td>\n",
       "      <td>12</td>\n",
       "      <td>12</td>\n",
       "    </tr>\n",
       "  </tbody>\n",
       "</table>\n",
       "</div>"
      ],
      "text/plain": [
       "     Name  Age Sec  Roll_No  Class\n",
       "1  Rachit   20   A       12     12"
      ]
     },
     "execution_count": 132,
     "metadata": {},
     "output_type": "execute_result"
    }
   ],
   "source": [
    "store_records('Rachit',20,'A',12,12)"
   ]
  },
  {
   "cell_type": "code",
   "execution_count": 134,
   "id": "cfbbf84e-bfc4-4279-bd04-2f0e3606a001",
   "metadata": {},
   "outputs": [
    {
     "data": {
      "text/html": [
       "<div>\n",
       "<style scoped>\n",
       "    .dataframe tbody tr th:only-of-type {\n",
       "        vertical-align: middle;\n",
       "    }\n",
       "\n",
       "    .dataframe tbody tr th {\n",
       "        vertical-align: top;\n",
       "    }\n",
       "\n",
       "    .dataframe thead th {\n",
       "        text-align: right;\n",
       "    }\n",
       "</style>\n",
       "<table border=\"1\" class=\"dataframe\">\n",
       "  <thead>\n",
       "    <tr style=\"text-align: right;\">\n",
       "      <th></th>\n",
       "      <th>Name</th>\n",
       "      <th>Age</th>\n",
       "      <th>Sec</th>\n",
       "      <th>Roll_No</th>\n",
       "      <th>Class</th>\n",
       "    </tr>\n",
       "  </thead>\n",
       "  <tbody>\n",
       "    <tr>\n",
       "      <th>1</th>\n",
       "      <td>Rachit</td>\n",
       "      <td>20</td>\n",
       "      <td>A</td>\n",
       "      <td>12</td>\n",
       "      <td>12</td>\n",
       "    </tr>\n",
       "  </tbody>\n",
       "</table>\n",
       "</div>"
      ],
      "text/plain": [
       "     Name  Age Sec  Roll_No  Class\n",
       "1  Rachit   20   A       12     12"
      ]
     },
     "metadata": {},
     "output_type": "display_data"
    },
    {
     "data": {
      "text/html": [
       "<div>\n",
       "<style scoped>\n",
       "    .dataframe tbody tr th:only-of-type {\n",
       "        vertical-align: middle;\n",
       "    }\n",
       "\n",
       "    .dataframe tbody tr th {\n",
       "        vertical-align: top;\n",
       "    }\n",
       "\n",
       "    .dataframe thead th {\n",
       "        text-align: right;\n",
       "    }\n",
       "</style>\n",
       "<table border=\"1\" class=\"dataframe\">\n",
       "  <thead>\n",
       "    <tr style=\"text-align: right;\">\n",
       "      <th></th>\n",
       "      <th>Name</th>\n",
       "      <th>Age</th>\n",
       "      <th>Sec</th>\n",
       "      <th>Roll_No</th>\n",
       "      <th>Class</th>\n",
       "    </tr>\n",
       "  </thead>\n",
       "  <tbody>\n",
       "    <tr>\n",
       "      <th>1</th>\n",
       "      <td>fazal</td>\n",
       "      <td>20</td>\n",
       "      <td>A</td>\n",
       "      <td>13</td>\n",
       "      <td>12</td>\n",
       "    </tr>\n",
       "  </tbody>\n",
       "</table>\n",
       "</div>"
      ],
      "text/plain": [
       "    Name  Age Sec  Roll_No  Class\n",
       "1  fazal   20   A       13     12"
      ]
     },
     "metadata": {},
     "output_type": "display_data"
    },
    {
     "data": {
      "text/html": [
       "<div>\n",
       "<style scoped>\n",
       "    .dataframe tbody tr th:only-of-type {\n",
       "        vertical-align: middle;\n",
       "    }\n",
       "\n",
       "    .dataframe tbody tr th {\n",
       "        vertical-align: top;\n",
       "    }\n",
       "\n",
       "    .dataframe thead th {\n",
       "        text-align: right;\n",
       "    }\n",
       "</style>\n",
       "<table border=\"1\" class=\"dataframe\">\n",
       "  <thead>\n",
       "    <tr style=\"text-align: right;\">\n",
       "      <th></th>\n",
       "      <th>Name</th>\n",
       "      <th>Age</th>\n",
       "      <th>Sec</th>\n",
       "      <th>Roll_No</th>\n",
       "      <th>Class</th>\n",
       "    </tr>\n",
       "  </thead>\n",
       "  <tbody>\n",
       "    <tr>\n",
       "      <th>1</th>\n",
       "      <td>samdish</td>\n",
       "      <td>20</td>\n",
       "      <td>A</td>\n",
       "      <td>14</td>\n",
       "      <td>12</td>\n",
       "    </tr>\n",
       "  </tbody>\n",
       "</table>\n",
       "</div>"
      ],
      "text/plain": [
       "      Name  Age Sec  Roll_No  Class\n",
       "1  samdish   20   A       14     12"
      ]
     },
     "metadata": {},
     "output_type": "display_data"
    }
   ],
   "source": [
    "display(store_records('Rachit',20,'A',12,12))\n",
    "display(store_records('fazal',20,'A',13,12))\n",
    "display(store_records('samdish',20,'A',14,12))\n",
    "        "
   ]
  },
  {
   "cell_type": "code",
   "execution_count": 137,
   "id": "76d3b884-c995-4f2e-9ac7-b4359b7ecfe7",
   "metadata": {},
   "outputs": [],
   "source": [
    "def students_records(**kwargs):\n",
    "    import pandas as pd\n",
    "    result=pd.DataFrame(kwargs,index=[1])\n",
    "    return result \n"
   ]
  },
  {
   "cell_type": "code",
   "execution_count": 138,
   "id": "5a130e3b-8526-4b21-a5c9-e886b192b9ef",
   "metadata": {},
   "outputs": [
    {
     "data": {
      "text/html": [
       "<div>\n",
       "<style scoped>\n",
       "    .dataframe tbody tr th:only-of-type {\n",
       "        vertical-align: middle;\n",
       "    }\n",
       "\n",
       "    .dataframe tbody tr th {\n",
       "        vertical-align: top;\n",
       "    }\n",
       "\n",
       "    .dataframe thead th {\n",
       "        text-align: right;\n",
       "    }\n",
       "</style>\n",
       "<table border=\"1\" class=\"dataframe\">\n",
       "  <thead>\n",
       "    <tr style=\"text-align: right;\">\n",
       "      <th></th>\n",
       "      <th>Name</th>\n",
       "      <th>Age</th>\n",
       "      <th>sec</th>\n",
       "      <th>Roll_No</th>\n",
       "      <th>Address</th>\n",
       "    </tr>\n",
       "  </thead>\n",
       "  <tbody>\n",
       "    <tr>\n",
       "      <th>1</th>\n",
       "      <td>aryan</td>\n",
       "      <td>20</td>\n",
       "      <td>e2</td>\n",
       "      <td>80</td>\n",
       "      <td>delhi</td>\n",
       "    </tr>\n",
       "  </tbody>\n",
       "</table>\n",
       "</div>"
      ],
      "text/plain": [
       "    Name  Age sec  Roll_No Address\n",
       "1  aryan   20  e2       80   delhi"
      ]
     },
     "execution_count": 138,
     "metadata": {},
     "output_type": "execute_result"
    }
   ],
   "source": [
    "students_records(Name='aryan',Age=20,sec='e2',Roll_No=80,Address='delhi')"
   ]
  },
  {
   "cell_type": "code",
   "execution_count": 139,
   "id": "1ac840eb-3803-4f71-a4c0-da3541967b88",
   "metadata": {},
   "outputs": [],
   "source": [
    " def check_palindrome(word:str):\n",
    "    if type(word)==str:\n",
    "        word= word.upper()\n",
    "        if word== word[::-1]:\n",
    "            return'Palindrome'\n",
    "        else:\n",
    "            return 'Not a Palindrome'\n",
    "    else:\n",
    "        return'Invalid Data Type'"
   ]
  },
  {
   "cell_type": "code",
   "execution_count": 140,
   "id": "fcc0dafd-4b22-4ea2-9493-1558e281ff98",
   "metadata": {},
   "outputs": [
    {
     "data": {
      "text/plain": [
       "'Palindrome'"
      ]
     },
     "execution_count": 140,
     "metadata": {},
     "output_type": "execute_result"
    }
   ],
   "source": [
    "check_palindrome('pop')"
   ]
  },
  {
   "cell_type": "code",
   "execution_count": 143,
   "id": "0031ff4e-ed93-4a2e-b767-6aa72a8f03ac",
   "metadata": {},
   "outputs": [
    {
     "ename": "SyntaxError",
     "evalue": "invalid non-printable character U+00A0 (3646836874.py, line 10)",
     "output_type": "error",
     "traceback": [
      "\u001b[1;36m  Cell \u001b[1;32mIn[143], line 10\u001b[1;36m\u001b[0m\n\u001b[1;33m    music.play()\u001b[0m\n\u001b[1;37m    ^\u001b[0m\n\u001b[1;31mSyntaxError\u001b[0m\u001b[1;31m:\u001b[0m invalid non-printable character U+00A0\n"
     ]
    }
   ],
   "source": [
    "def sound_box(paisa,platform='Paytm'):\n",
    "    text = f'''{platform} par {paisa} rs Prapt hue.'''\n",
    "    audio= gTTs(text)\n",
    "    audio.save('paytm.mp3')\n",
    "\n",
    "    import pygame as p\n",
    "    p.init()\n",
    "\n",
    "    music= p.mixer.Sound('paytm.mp3')\n",
    "    music.play()"
   ]
  },
  {
   "cell_type": "code",
   "execution_count": 149,
   "id": "47142991-368d-446a-94e1-625aa9a7866f",
   "metadata": {},
   "outputs": [],
   "source": [
    "def sound_box(paisa,platform = 'Paytm'):\n",
    "    from gtts import gTTS\n",
    "    text  = f'''{platform} par {paisa} rs Prapt hue.'''\n",
    "    audio = gTTS(text)\n",
    "    audio.save('paytm.mp3')\n",
    "\n",
    "    import pygame as p\n",
    "    p.init()\n",
    "\n",
    "    music = p.mixer.Sound('paytm.mp3')\n",
    "    music.play()"
   ]
  },
  {
   "cell_type": "code",
   "execution_count": 150,
   "id": "9f7f1944-f0f6-4d12-89e9-baf74c656687",
   "metadata": {},
   "outputs": [
    {
     "data": {
      "text/plain": [
       "600"
      ]
     },
     "execution_count": 150,
     "metadata": {},
     "output_type": "execute_result"
    }
   ],
   "source": [
    "600"
   ]
  },
  {
   "cell_type": "code",
   "execution_count": 151,
   "id": "07edab52-cb5d-4982-9444-5d7a0061a41b",
   "metadata": {},
   "outputs": [
    {
     "data": {
      "text/plain": [
       "400"
      ]
     },
     "execution_count": 151,
     "metadata": {},
     "output_type": "execute_result"
    }
   ],
   "source": [
    "400"
   ]
  },
  {
   "cell_type": "code",
   "execution_count": 152,
   "id": "a69716b3-2b50-4fe7-87ac-e8504d3ad3fe",
   "metadata": {},
   "outputs": [
    {
     "data": {
      "text/plain": [
       "499"
      ]
     },
     "execution_count": 152,
     "metadata": {},
     "output_type": "execute_result"
    }
   ],
   "source": [
    "499"
   ]
  },
  {
   "cell_type": "code",
   "execution_count": 153,
   "id": "f455415a-f11b-4560-afcb-a690618a201d",
   "metadata": {},
   "outputs": [
    {
     "ename": "ModuleNotFoundError",
     "evalue": "No module named 'gtts'",
     "output_type": "error",
     "traceback": [
      "\u001b[1;31m---------------------------------------------------------------------------\u001b[0m",
      "\u001b[1;31mModuleNotFoundError\u001b[0m                       Traceback (most recent call last)",
      "Cell \u001b[1;32mIn[153], line 1\u001b[0m\n\u001b[1;32m----> 1\u001b[0m sound_box(\u001b[38;5;241m500\u001b[39m)\n",
      "Cell \u001b[1;32mIn[149], line 2\u001b[0m, in \u001b[0;36msound_box\u001b[1;34m(paisa, platform)\u001b[0m\n\u001b[0;32m      1\u001b[0m \u001b[38;5;28;01mdef\u001b[39;00m\u001b[38;5;250m \u001b[39m\u001b[38;5;21msound_box\u001b[39m(paisa,platform \u001b[38;5;241m=\u001b[39m \u001b[38;5;124m'\u001b[39m\u001b[38;5;124mPaytm\u001b[39m\u001b[38;5;124m'\u001b[39m):\n\u001b[1;32m----> 2\u001b[0m     \u001b[38;5;28;01mfrom\u001b[39;00m\u001b[38;5;250m \u001b[39m\u001b[38;5;21;01mgtts\u001b[39;00m\u001b[38;5;250m \u001b[39m\u001b[38;5;28;01mimport\u001b[39;00m gTTS\n\u001b[0;32m      3\u001b[0m     text  \u001b[38;5;241m=\u001b[39m \u001b[38;5;124mf\u001b[39m\u001b[38;5;124m'''\u001b[39m\u001b[38;5;132;01m{\u001b[39;00mplatform\u001b[38;5;132;01m}\u001b[39;00m\u001b[38;5;124m par \u001b[39m\u001b[38;5;132;01m{\u001b[39;00mpaisa\u001b[38;5;132;01m}\u001b[39;00m\u001b[38;5;124m rs Prapt hue.\u001b[39m\u001b[38;5;124m'''\u001b[39m\n\u001b[0;32m      4\u001b[0m     audio \u001b[38;5;241m=\u001b[39m gTTS(text)\n",
      "\u001b[1;31mModuleNotFoundError\u001b[0m: No module named 'gtts'"
     ]
    }
   ],
   "source": [
    "sound_box(500)"
   ]
  },
  {
   "cell_type": "code",
   "execution_count": 156,
   "id": "cd6c427f-39ea-43e1-9491-970c57b87711",
   "metadata": {},
   "outputs": [
    {
     "ename": "SyntaxError",
     "evalue": "invalid syntax. Perhaps you forgot a comma? (873260808.py, line 1)",
     "output_type": "error",
     "traceback": [
      "\u001b[1;36m  Cell \u001b[1;32mIn[156], line 1\u001b[1;36m\u001b[0m\n\u001b[1;33m    sound_box(100 rupee ,'paytm' pr prapt hue)\u001b[0m\n\u001b[1;37m              ^\u001b[0m\n\u001b[1;31mSyntaxError\u001b[0m\u001b[1;31m:\u001b[0m invalid syntax. Perhaps you forgot a comma?\n"
     ]
    }
   ],
   "source": [
    "sound_box(100 rupee ,'paytm' pr prapt hue)"
   ]
  },
  {
   "cell_type": "code",
   "execution_count": null,
   "id": "592db29b-297d-4131-854a-1ccb73593768",
   "metadata": {},
   "outputs": [],
   "source": []
  }
 ],
 "metadata": {
  "kernelspec": {
   "display_name": "Python 3 (ipykernel)",
   "language": "python",
   "name": "python3"
  },
  "language_info": {
   "codemirror_mode": {
    "name": "ipython",
    "version": 3
   },
   "file_extension": ".py",
   "mimetype": "text/x-python",
   "name": "python",
   "nbconvert_exporter": "python",
   "pygments_lexer": "ipython3",
   "version": "3.13.5"
  }
 },
 "nbformat": 4,
 "nbformat_minor": 5
}
